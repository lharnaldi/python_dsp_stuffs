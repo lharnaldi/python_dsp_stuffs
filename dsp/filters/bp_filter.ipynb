{
 "cells": [
  {
   "cell_type": "markdown",
   "metadata": {
    "ein.tags": "worksheet-0",
    "slideshow": {
     "slide_type": "-"
    }
   },
   "source": [
    "## Diseño de filtros pasa-banda"
   ]
  },
  {
   "cell_type": "markdown",
   "metadata": {
    "ein.tags": "worksheet-0",
    "slideshow": {
     "slide_type": "-"
    }
   },
   "source": [
    "### Diseño\n",
    "Este script hace el diseño de un filtro FIR pasa bajos y lo convierte en un pasa banda con las mismas características del pasa bajo. Para hacer la conversión se multiplica por una exponencial centrada en la frecuencia requerida para el pasa banda.\n",
    "\n",
    "Este script está basado en el script fir2.py de esta carpeta\n"
   ]
  },
  {
   "cell_type": "markdown",
   "metadata": {},
   "source": [
    "Importo los modulos necesarios"
   ]
  },
  {
   "cell_type": "code",
   "execution_count": null,
   "metadata": {
    "autoscroll": false,
    "ein.hycell": false,
    "ein.tags": "worksheet-0",
    "slideshow": {
     "slide_type": "-"
    }
   },
   "outputs": [],
   "source": [
    "%matplotlib ipympl\n",
    "import numpy as np\n",
    "import matplotlib.pyplot as plt\n",
    "from scipy import signal as sg, fftpack as fp, interpolate as ip\n",
    "from dsp_funcs import remezord, lporder, h_freqz, mfreqz, impz, zplane"
   ]
  },
  {
   "cell_type": "markdown",
   "metadata": {
    "ein.tags": "worksheet-0",
    "slideshow": {
     "slide_type": "-"
    }
   },
   "source": [
    "Especificaciones de diseño del filtro FIR pasa-bajas."
   ]
  },
  {
   "cell_type": "code",
   "execution_count": null,
   "metadata": {
    "autoscroll": false,
    "ein.hycell": false,
    "ein.tags": "worksheet-0",
    "slideshow": {
     "slide_type": "-"
    }
   },
   "outputs": [],
   "source": [
    "Fs = 8e3       # Frecuencia de muestreo\n",
    "Fc = 1.5e3     # Frecuencia central para el filtro PB. En este caso coincide con f1\n",
    "a_p = 0.1      # Máxima atenueación en la banda de paso\n",
    "a_s = 60       # Minima atenueación en la banda atenuada\n",
    "f_p = 0.0025   # = 10/(Fs/2) --> 10Hz va a ser el ancho de mi filtro pasa banda después\n",
    "f_s = 0.00375; # = 15/(Fs/2) --> 15Hz empieza la banda de atenuación \n",
    "delta_p = (10**(a_p/20)-1)/(10**(a_p/20)+1) # Passband and stopband ripples\n",
    "delta_s = (1+delta_p)*10**(-a_s/20)         # Passband and stopband ripples\n",
    "dev = [delta_p, delta_s]             "
   ]
  },
  {
   "cell_type": "markdown",
   "metadata": {},
   "source": [
    "Diseño del filtro pasa-bajas"
   ]
  },
  {
   "cell_type": "code",
   "execution_count": null,
   "metadata": {
    "autoscroll": false,
    "ein.hycell": false,
    "ein.tags": "worksheet-0",
    "slideshow": {
     "slide_type": "-"
    }
   },
   "outputs": [],
   "source": [
    "F = [f_p,f_s]; # Cutoff frequencies\n",
    "A = [1, 0]; # Desired amplitudes\n",
    "(Nord,Fo,Ao,W) = remezord(F, A, dev)# Estimating the filter order\n",
    "print(Nord, Fo, Ao, W)"
   ]
  },
  {
   "cell_type": "markdown",
   "metadata": {
    "ein.tags": "worksheet-0",
    "slideshow": {
     "slide_type": "-"
    }
   },
   "source": [
    "Al orden estimado le sumo 4 para hacerlo un poco más holgado y luego, con eso, utilizo remez para diseñar el filtro pasa-bajas."
   ]
  },
  {
   "cell_type": "code",
   "execution_count": null,
   "metadata": {},
   "outputs": [],
   "source": [
    "Nord = Nord+4;\n",
    "#h = firpm(Nord,Fo,Ao,W); \n",
    "lp_taps=sg.remez(Nord,np.array(Fo)/2,Ao[0::2],W)# Filter coefficients #[0, pb_freq/2, sb_freq/2, 0.5],[1,0],w)"
   ]
  },
  {
   "cell_type": "markdown",
   "metadata": {},
   "source": [
    "Ahora diseño el filtro pasa-banda a partir de los coeficientes del filtro pasa-bajas. Para eso, \n",
    "multiplico los coeficientes del filtro pasa-basjas por una exponencial compleja."
   ]
  },
  {
   "cell_type": "code",
   "execution_count": null,
   "metadata": {
    "autoscroll": false,
    "ein.hycell": false,
    "ein.tags": "worksheet-0",
    "slideshow": {
     "slide_type": "-"
    }
   },
   "outputs": [],
   "source": [
    "#w, h = sg.freqz(lp_taps, 1, worN=1024)\n",
    "#lowpass_taps = remez(ntaps, [0,0.0025/2,0.00375/2,0.5], [1, 0], maxiter=2500)\n",
    "#bandpass_taps = [lp_tap * cos(2*pi*F_c/Fs*n) for n, lptap in enumerate(lowpass_taps)]\n",
    "bp_taps = [lptap * np.exp(2j*np.pi*(Fc/Fs)*n) for n, lptap in enumerate(lp_taps)]"
   ]
  },
  {
   "cell_type": "markdown",
   "metadata": {},
   "source": [
    "Ahora empiezo las pruebas. Genero una señal de prueba para analizar con el filtro diseñado."
   ]
  },
  {
   "cell_type": "code",
   "execution_count": null,
   "metadata": {
    "autoscroll": false,
    "ein.hycell": false,
    "ein.tags": "worksheet-0",
    "slideshow": {
     "slide_type": "-"
    }
   },
   "outputs": [],
   "source": [
    "duration = 1.0\n",
    "samples = int(Fs*duration)\n",
    "n = np.arange(samples)\n",
    "f1 = 1.5e3 #señal que quiero recuperar\n",
    "f2 = 190.0 #señal espúrea\n",
    "f3 = 102.0 #señal espúrea\n",
    "fc = 1.5e3 #frecuencia central para mi filtro PB. En este caso coincide con f1\n",
    "           #porque es esa frecuencia la que estoy queriendo recuperar\n",
    "sn = np.random.randn(n.size) #ruido normalmente distribuido\n",
    "signal_test = (5.0*np.sin(2.0*np.pi*(f1/Fs)*n)) + (0.5*np.sin(2.0*np.pi*(f2/Fs)*n)) + (0.5*np.sin(2.0*np.pi*(f3/Fs)*n)) + sn"
   ]
  },
  {
   "cell_type": "markdown",
   "metadata": {},
   "source": [
    "Grafico las señales."
   ]
  },
  {
   "cell_type": "code",
   "execution_count": null,
   "metadata": {},
   "outputs": [],
   "source": [
    "fig,ax=plt.subplots(5,1)\n",
    "ax[0].plot(n,5.0*np.sin(2.0*np.pi*(f1/Fs)*n))\n",
    "ax[1].plot(n,5.0*np.sin(2.0*np.pi*(f2/Fs)*n))\n",
    "ax[2].plot(n,5.0*np.sin(2.0*np.pi*(f3/Fs)*n))\n",
    "ax[3].plot(n,sn)\n",
    "ax[4].plot(n,signal_test)\n",
    "#plt.show()"
   ]
  },
  {
   "cell_type": "markdown",
   "metadata": {
    "ein.tags": "worksheet-0",
    "slideshow": {
     "slide_type": "-"
    }
   },
   "source": [
    "Para ver las señales presentes, grafico el espectro de frecuencias."
   ]
  },
  {
   "cell_type": "code",
   "execution_count": null,
   "metadata": {
    "autoscroll": false,
    "ein.hycell": false,
    "ein.tags": "worksheet-0",
    "slideshow": {
     "slide_type": "-"
    }
   },
   "outputs": [],
   "source": [
    "X=fp.fft(signal_test,2**13)\n",
    "f=fp.fftfreq(2**13,d=1/Fs)\n",
    "fig, ax = plt.subplots()\n",
    "ax.plot(f[:2**12],(2/len(signal_test))*abs(X[:2**12]))\n",
    "#plt.show()"
   ]
  },
  {
   "cell_type": "markdown",
   "metadata": {},
   "source": [
    "Aplico el filtro a la señal de prueba y observo la salida."
   ]
  },
  {
   "cell_type": "code",
   "execution_count": null,
   "metadata": {},
   "outputs": [],
   "source": [
    "#signal_test_filtered = lfilter(taps, 1, signal_test)\n",
    "signal_test_filtered = sg.lfilter(bp_taps, 1, signal_test)"
   ]
  },
  {
   "cell_type": "code",
   "execution_count": null,
   "metadata": {},
   "outputs": [],
   "source": [
    "h_freqz(lp_taps)\n",
    "\n",
    "#Este grafico para ver todo el espectro [0, 2*np.pi]\n",
    "#w, h = sg.freqz(lp_taps, 1, worN=1024, whole=True)\n",
    "#h_dB = 20 * np.log10(np.abs(h))\n",
    "#h_Phase = np.unwrap(np.arctan2(np.imag(h),np.real(h)))\n",
    "#fig, ax = plt.subplots(nrows=2, ncols=1, sharex=True, figsize=(7, 7))\n",
    "#ax[0].plot(w*0.5*Fs/np.pi,h_dB)\n",
    "#ax[0].grid()\n",
    "#ax[0].set_ylim(-90, 5)\n",
    "##ax[0].set_xlim(0, 1)\n",
    "#ax[0].set_ylabel('Magnitude (dB)')\n",
    "##ax[0].set_xlabel(r'Normalized Frequency (x $\\pi$ rad/sample)')\n",
    "#ax[0].set_title(r'Frequency response')\n",
    "#ax[1].plot(w*0.5*Fs/np.pi,(180/np.pi)*h_Phase)\n",
    "#ax[1].grid()\n",
    "##ax[1].set_xlim(0, 1)\n",
    "##ax[1].ylabel('Phase (radians)')\n",
    "#ax[1].set_ylabel('Phase (degrees)')\n",
    "#ax[1].set_xlabel(r'Normalized Frequency (x $\\pi$ rad/sample)')"
   ]
  },
  {
   "cell_type": "code",
   "execution_count": null,
   "metadata": {},
   "outputs": [],
   "source": [
    "#plt.figure()\n",
    "h_freqz(bp_taps)\n",
    "\n",
    "#Este grafico para ver todo el espectro [0, 2*np.pi]\n",
    "#w, h = sg.freqz(bp_taps, 1, worN=1024)\n",
    "#h_dB = 20 * np.log10(np.abs(h))\n",
    "#h_Phase = np.unwrap(np.arctan2(np.imag(h),np.real(h)))\n",
    "#fig, ax = plt.subplots(nrows=2, ncols=1, sharex=True, figsize=(7, 7))\n",
    "#ax[0].plot(w*0.5*Fs/np.pi,h_dB)\n",
    "#ax[0].grid()\n",
    "#ax[0].set_ylim(-90, 5)\n",
    "##ax[0].set_xlim(0, 1)\n",
    "#ax[0].set_ylabel('Magnitude (dB)')\n",
    "##ax[0].set_xlabel(r'Normalized Frequency (x $\\pi$ rad/sample)')\n",
    "#ax[0].set_title(r'Frequency response')\n",
    "#ax[1].plot(w*0.5*Fs/np.pi,(180/np.pi)*h_Phase)\n",
    "#ax[1].grid()\n",
    "#ax[1].set_xlim(0, 1)\n",
    "#ax[1].ylabel('Phase (radians)')\n",
    "#ax[1].set_ylabel('Phase (degrees)')\n",
    "#ax[1].set_xlabel(r'Normalized Frequency (x $\\pi$ rad/sample)')"
   ]
  },
  {
   "cell_type": "markdown",
   "metadata": {},
   "source": [
    "Ahora grafico la respuesta."
   ]
  },
  {
   "cell_type": "code",
   "execution_count": null,
   "metadata": {},
   "outputs": [],
   "source": [
    "fig, ax = plt.subplots()\n",
    "ax.plot(n, signal_test, label='signal_test')\n",
    "ax.plot(n, signal_test_filtered.real, label='signal_test_filtered')\n",
    "ax.set_xlabel(\"Time index\")\n",
    "ax.set_ylabel(\"Amplitude (V)\")\n",
    "ax.legend()\n",
    "#fig.show()"
   ]
  },
  {
   "cell_type": "code",
   "execution_count": null,
   "metadata": {},
   "outputs": [],
   "source": []
  }
 ],
 "metadata": {
  "kernelspec": {
   "display_name": "Python 3 (ipykernel)",
   "language": "python",
   "name": "python3"
  },
  "language_info": {
   "codemirror_mode": {
    "name": "ipython",
    "version": 3
   },
   "file_extension": ".py",
   "mimetype": "text/x-python",
   "name": "python",
   "nbconvert_exporter": "python",
   "pygments_lexer": "ipython3",
   "version": "3.12.3"
  },
  "name": "01_introd_python.ipynb"
 },
 "nbformat": 4,
 "nbformat_minor": 4
}
