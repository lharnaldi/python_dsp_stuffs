{
 "cells": [
  {
   "cell_type": "markdown",
   "metadata": {
    "ein.tags": "worksheet-0",
    "slideshow": {
     "slide_type": "-"
    }
   },
   "source": [
    "## Sample-by-sample approach of filtering in Python\n",
    "\n",
    "Jupyter Notebook code based on this [original article](https://wordpress.com/block-editor/post/horacioarnaldi.wordpress.com/53), located at my [personal page](https://wordpress.com/customize/horacioarnaldi.wordpress.com)\n",
    "\n",
    "&copy; 2020 L. Horacio Arnaldi\n",
    "\n",
    "Permission is hereby granted, free of charge, to any person obtaining a copy of this software and associated documentation files (the \"Software\"), to deal in the Software without restriction, including without limitation the rights to use, copy, modify, merge, publish, distribute, sublicense, and/or sell copies of the Software, and to permit persons to whom the Software is furnished to do so, subject to the following conditions:\n",
    "\n",
    "The above copyright notice and this permission notice shall be included in all copies or substantial portions of the Software.\n",
    "\n",
    "THE SOFTWARE IS PROVIDED \"AS IS\", WITHOUT WARRANTY OF ANY KIND, EXPRESS OR IMPLIED, INCLUDING BUT NOT LIMITED TO THE WARRANTIES OF MERCHANTABILITY, FITNESS FOR A PARTICULAR PURPOSE AND NONINFRINGEMENT. IN NO EVENT SHALL THE AUTHORS OR COPYRIGHT HOLDERS BE LIABLE FOR ANY CLAIM, DAMAGES OR OTHER LIABILITY, WHETHER IN AN ACTION OF CONTRACT, TORT OR OTHERWISE, ARISING FROM, OUT OF OR IN CONNECTION WITH THE SOFTWARE OR THE USE OR OTHER DEALINGS IN THE SOFTWARE."
   ]
  },
  {
   "cell_type": "markdown",
   "metadata": {
    "ein.tags": "worksheet-0",
    "slideshow": {
     "slide_type": "-"
    }
   },
   "source": [
    "## Design\n",
    "\n",
    "The idea is to show the behaviour of two kind of filters commonly used in phase-locked loop (PLL) networks. This can serve as a guide for simulating the performance of a digital, linerized PLL system."
   ]
  },
  {
   "cell_type": "markdown",
   "metadata": {},
   "source": [
    "Let's import the necessary"
   ]
  },
  {
   "cell_type": "code",
   "execution_count": null,
   "metadata": {
    "autoscroll": false,
    "ein.hycell": false,
    "ein.tags": "worksheet-0",
    "slideshow": {
     "slide_type": "-"
    }
   },
   "outputs": [],
   "source": [
    "%matplotlib ipympl\n",
    "import numpy as np\n",
    "import matplotlib.pyplot as plt\n",
    "import scipy.signal as sg\n",
    "from scipy.fftpack import fft, fftfreq\n",
    "#plt.xkcd() #if you want some funny plotting style"
   ]
  },
  {
   "cell_type": "markdown",
   "metadata": {
    "ein.tags": "worksheet-0",
    "slideshow": {
     "slide_type": "-"
    }
   },
   "source": [
    "Filter specifications and some working theory."
   ]
  },
  {
   "attachments": {},
   "cell_type": "markdown",
   "metadata": {},
   "source": [
    "## RC Filter\n",
    "\n",
    "<img src='media/rc_filter.png' width=\"220\" height=\"60\">\n",
    "\n",
    "<!--![image.png](attachment:image.png)-->\n",
    "\n",
    "The transfer funcion of this arrangement is:\n",
    "\n",
    "$$F(s) = \\frac{1}{1+s \\tau}$$\n",
    "\n",
    "with $\\tau = CR$.\n",
    "\n",
    "The cutoff frequency, in $rad/s$ can be found as: \n",
    "\n",
    "$$\\omega_c = \\frac{1}{RC}$$"
   ]
  },
  {
   "cell_type": "code",
   "execution_count": null,
   "metadata": {},
   "outputs": [],
   "source": [
    "def rcz_filter(C,R,Ts):\n",
    "    '''Low-pass RC filter using the Butter function.'''\n",
    "    fs = 1/Ts\n",
    "    tau = R*C\n",
    "    wc  = 1/tau\n",
    "    fc  = wc/(2*np.pi)\n",
    "    wcn = fc/(fs/2) #Normalized frequency\n",
    "    bz,az=sg.butter(1,wcn,'low')\n",
    "    return bz,az"
   ]
  },
  {
   "cell_type": "markdown",
   "metadata": {},
   "source": [
    "Simple test"
   ]
  },
  {
   "cell_type": "code",
   "execution_count": null,
   "metadata": {},
   "outputs": [],
   "source": [
    "fs = 10e3 #sampling frequency of the system\n",
    "Ts= 1/fs\n",
    "R  =10e3\n",
    "C = 15.915e-9 #parameters for filter cuttoff freqeuncy fc=1 kHz\n",
    "\n",
    "bz,az = rcz_filter(C,R,Ts)\n",
    "wz,hz = sg.freqz(bz,az,worN=2000)\n",
    "print(az,bz)\n",
    " \n",
    "fig,ax = plt.subplots()\n",
    "ax.semilogx(wz*fs/(2*np.pi), 20*np.log10(np.abs(hz).clip(1e-15)), label=r'$|H(j \\omega)|$')\n",
    "ax.legend()\n",
    "ax.set_xlabel('Frequency [Hz]')\n",
    "ax.set_ylabel('Magnitude [dB]')\n",
    "ax.set_title('RC filter frequency response')\n",
    "ax.axvline(1/(2*np.pi*R*C), color='green') # cutoff frequency\n",
    "ax.grid(which='both',axis='both')"
   ]
  },
  {
   "attachments": {},
   "cell_type": "markdown",
   "metadata": {},
   "source": [
    "## Active lead-lag filter\n",
    "Now, let's see how about the active lead-lag filter. \n",
    "\n",
    "<img src=\"media/filtro_lead_lag_activo2.png\" width=\"300\" height=\"150\">\n",
    "<!--![image.png](attachment:image.png)-->\n",
    "\n",
    "The transfer funcion of this filter is:\n",
    "\n",
    "$$F(s) = \\frac{1+s\\tau_2}{s\\tau_1}$$\n",
    "\n",
    "with $\\tau_1 = CR_1$ y $\\tau_2 = CR_2$.\n",
    "\n",
    "The cutoff frequency can be found as [<sup>4</sup>](#fn4): \n",
    "\n",
    "$$\\omega_c = \\frac{1}{(R_1+R_2)C}$$\n",
    "\n",
    "[4]: <span id=\"#fn4\"> \"Analog and digital filter design\" book by Steve Winder.</span>"
   ]
  },
  {
   "cell_type": "code",
   "execution_count": null,
   "metadata": {},
   "outputs": [],
   "source": [
    "def allz_filter(C,R1,R2,Ts):\n",
    "    '''Low-pass ALL filter using the Butter function.'''\n",
    "    fs   = 1/Ts\n",
    "    tau1 = R1*C\n",
    "    tau2 = R2*C\n",
    "    wc   = 1/((R1+R2)*C)\n",
    "    fc   = wc/(2*np.pi)\n",
    "    wcn  = fc/(fs/2) #Normalized frequency\n",
    "    bz,az=sg.butter(1,wcn,'low')\n",
    "    return bz,az"
   ]
  },
  {
   "cell_type": "markdown",
   "metadata": {},
   "source": [
    "Now, a simple test for the ALL filter."
   ]
  },
  {
   "cell_type": "code",
   "execution_count": null,
   "metadata": {},
   "outputs": [],
   "source": [
    "fs = 10e3 #sampling frequency of the system\n",
    "Ts = 1/fs\n",
    "\n",
    "R1 = 10e3\n",
    "R2 = 10e3\n",
    "C  = 7.958e-9 #These values are for cutoff frequency of fc = 1kHz\n",
    "\n",
    "bz,az = allz_filter(C,R1,R2,Ts)\n",
    "wz,hz = sg.freqz(bz,az)\n",
    "print(az,bz)\n",
    "\n",
    "fig,ax = plt.subplots()\n",
    "ax.semilogx(wz*fs/(2*np.pi), 20*np.log10(np.abs(hz).clip(1e-15)), label=r'$|H(j \\omega)|$')\n",
    "ax.legend()\n",
    "ax.set_xlabel('Frequency [Hz]')\n",
    "ax.set_ylabel('Magnitude [dB]')\n",
    "ax.set_title('Actve lead-lag filter frequency response')\n",
    "ax.axvline(1/(2*np.pi*(R1+R2)*C), color='green') # cutoff frequency\n",
    "ax.grid(which='both',axis='both')"
   ]
  },
  {
   "cell_type": "code",
   "execution_count": null,
   "metadata": {
    "autoscroll": false,
    "ein.hycell": false,
    "ein.tags": "worksheet-0",
    "slideshow": {
     "slide_type": "-"
    }
   },
   "outputs": [],
   "source": [
    "def test_filter(xd,C,R1,R2,Ts,ftype='rc',ei=0):\n",
    "    '''RC or Active Lead-Lag (ALL) filter\n",
    "    :params\n",
    "    xd : one sample of the data points\n",
    "    C  : capacitor of the RC/ALL filter\n",
    "    R1 : resistance (1) of the RC/ALL filter\n",
    "    R2 : resistance (2) of the ALL filter\n",
    "    Ts : sample period of the digital filter\n",
    "    ftype: selects the implementation (rc or all)\n",
    "    ei : initial status of the filter\n",
    "    :return\n",
    "    bz : numerator of the digital filter transfer function\n",
    "    az : denominator of the digital filter transfer function\n",
    "    ---\n",
    "    Digital filter implemented as H(z) = B(z)/A(z)\n",
    "    \n",
    "    '''\n",
    "    pk = 0 if ei == 0 else ei #initial state\n",
    "    #pk=xd if ei is None else ei\n",
    "    if 'rc' in ftype:\n",
    "        bz,az     = rcz_filter(C, R1, Ts)\n",
    "        z         = sg.lfilter_zi(bz,az)\n",
    "        result, z = sg.lfilter(bz, az, [xd], zi=z*pk)\n",
    "        return result\n",
    "        \n",
    "    elif 'all' in ftype:\n",
    "        bz,az     = allz_filter(C,R1,R2,Ts)\n",
    "        z         = sg.lfilter_zi(bz,az)\n",
    "        result, z = sg.lfilter(bz, az, [xd], zi=z*pk)\n",
    "        return result\n",
    "        \n",
    "    else:\n",
    "        print(\"The 'ftype' variable must be 'rc' or 'all'. Please, insert a valid value.\")"
   ]
  },
  {
   "cell_type": "markdown",
   "metadata": {
    "ein.tags": "worksheet-0",
    "slideshow": {
     "slide_type": "-"
    }
   },
   "source": [
    "Now the magic!"
   ]
  },
  {
   "cell_type": "code",
   "execution_count": null,
   "metadata": {},
   "outputs": [],
   "source": [
    "R1 = 10e3\n",
    "R2 = 10e3\n",
    "C  = 7.958e-9 # for cutoff frequency of fc = 1 kHz\n",
    "t = np.linspace(-1, 1, 201)\n",
    "x = (np.sin(2*np.pi*0.75*t*(1-t) + 2.1) + 0.1*np.sin(2*np.pi*3.25*t + 1) + 0.18*np.cos(2*np.pi*3.85*t))\n",
    "xn = x + np.random.randn(len(t)) * .08\n",
    "drc=np.zeros(xn.size)\n",
    "dlla=np.zeros(xn.size)\n",
    "for i in range(xn.size):\n",
    "    dlla[i] = test_filter(xn[i],C,R1,R2,Ts,'all',dlla[i-1])\n",
    "    drc[i] = test_filter(xn[i],C,R1,R2,Ts,'rc',drc[i-1])\n",
    "\n",
    "\n",
    "fig,ax=plt.subplots()\n",
    "ax.plot(t, xn, 'b', alpha=0.75, label='noisy data')\n",
    "ax.plot(t, drc, 'r',label=\"RC filter\")\n",
    "ax.plot(t, dlla, 'g', label='ALL filter')\n",
    "#ax.axhline(np.mean(x),color='cyan')\n",
    "ax.set_xlabel('Time index (n)')\n",
    "ax.set_ylabel('Amplitude (V)')\n",
    "ax.legend()\n",
    "plt.savefig('recursive_filter.png', dpi=100)\n",
    "#plt.show()"
   ]
  },
  {
   "cell_type": "code",
   "execution_count": null,
   "metadata": {},
   "outputs": [],
   "source": []
  }
 ],
 "metadata": {
  "kernelspec": {
   "display_name": "Python 3 (ipykernel)",
   "language": "python",
   "name": "python3"
  },
  "language_info": {
   "codemirror_mode": {
    "name": "ipython",
    "version": 3
   },
   "file_extension": ".py",
   "mimetype": "text/x-python",
   "name": "python",
   "nbconvert_exporter": "python",
   "pygments_lexer": "ipython3",
   "version": "3.12.3"
  },
  "name": "01_introd_python.ipynb"
 },
 "nbformat": 4,
 "nbformat_minor": 4
}
